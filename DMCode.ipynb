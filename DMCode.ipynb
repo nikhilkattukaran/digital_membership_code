{
 "cells": [
  {
   "cell_type": "markdown",
   "id": "d3c9d309",
   "metadata": {},
   "source": [
    "#### Databricks Connector"
   ]
  },
  {
   "cell_type": "code",
   "execution_count": 16,
   "id": "e975cca1",
   "metadata": {
    "ExecuteTime": {
     "end_time": "2022-05-27T10:00:50.374331Z",
     "start_time": "2022-05-27T10:00:49.828319Z"
    }
   },
   "outputs": [],
   "source": [
    "import pyodbc\n",
    "import pandas as pd\n",
    "import pandasql as psql\n",
    "\n",
    "# Replace <table-name> with the name of the database table to query.\n",
    "#table_name = \"mdp_secure.sams_mbrcard_linking\"\n",
    "\n",
    "# Connect to the Databricks cluster by using the\n",
    "# Data Source Name (DSN) that you created earlier.\n",
    "conn = pyodbc.connect(\"DSN=Databricks_Cluster\", autocommit=True)\n",
    "\n",
    "# Run a SQL query by using the preceding connection.\n",
    "cursor = conn.cursor()\n",
    "#cursor.execute(f\"SELECT * FROM {table_name} LIMIT 2\")\n",
    "\n",
    "# # Print the rows retrieved from the query.\n",
    "# print(f\"Query output: SELECT * FROM {table_name} LIMIT 2\\n\")\n",
    "# for row in cursor.fetchall():\n",
    "#   print(row)"
   ]
  },
  {
   "cell_type": "markdown",
   "id": "4dcea8c7",
   "metadata": {},
   "source": [
    "#### Compute Overall Population"
   ]
  },
  {
   "cell_type": "code",
   "execution_count": 5,
   "id": "52e1405c",
   "metadata": {
    "ExecuteTime": {
     "end_time": "2022-05-27T09:48:53.018927Z",
     "start_time": "2022-05-27T09:48:53.013925Z"
    }
   },
   "outputs": [],
   "source": [
    "query = (\n",
    "'''\n",
    "SELECT DISTINCT A.MEMBERSHIPID, B.CARDNUMBER, CAST(RIGHT(A.CARDNUMBER,9) AS INT) MEMBERSHIP_NBR, A.CARD_NBR, A.CARDSTATUS, B.CARDTYPE, B.CREATEDCLUB, B.SNAPSHOT_BEGIN_TS, \n",
    "B.UPDATED_DT,CASE WHEN A.UPDATEDFEATURE IN ('CONVERT_MEMBERSHIP') THEN 1 ELSE 0 END AS EZ_MBR_FLAG,\n",
    "mem.membershipstatus AS MEMBERSHIP_STATUS,\n",
    "       mem.membershiptier AS MEMBERSHIP_TIER,\n",
    "       mem.membershiproledesc AS MEMBERSHIP_ROLE,\n",
    "       upper(person.firstname) as FIRST_NAME,\n",
    "       upper(person.lastname) AS LAST_NAME,\n",
    "       upper(email.emailaddress) AS EMAIL_ADDRESS \n",
    "   FROM (SELECT A.*,CAST(LEFT(CARDNUMBER,(LENGTH(CARDNUMBER)-9)) AS INT) AS CARD_NBR FROM mdp_secure.sams_mbrcard_linking A WHERE CURRENT_IND = 'Y') A \n",
    "   JOIN (SELECT MEMBERSHIPID, \n",
    "                CARDNUMBER,\n",
    "                CARDTYPE,\n",
    "                CREATEDCLUB,\n",
    "                DATE(UPDATEDTS) AS UPDATED_DT,\n",
    "                CAST(LEFT(CARDNUMBER,(LENGTH(CARDNUMBER)-9)) AS INT) CARD_NBR, \n",
    "                DATE(SNAPSHOTBEGINTS) AS SNAPSHOT_BEGIN_TS,\n",
    "                MIN(SNAPSHOTBEGINTS) MINTS\n",
    "           FROM mdp_secure.sams_mbrcard_linking \n",
    "           WHERE TO_DATE(FROM_UTC_TIMESTAMP(SNAPSHOTBEGINTS,'America/Chicago')) <= CURRENT_DATE()\n",
    "           AND CURRENT_IND = 'Y'\n",
    "           GROUP BY 1,2,3,4,5,6, 7)B \n",
    "   ON A.MEMBERSHIPID = B.MEMBERSHIPID AND A.CARD_NBR = B.CARD_NBR AND SNAPSHOTBEGINTS = MINTS \n",
    " join mdp_secure.sams_membership mem on A.membershipid = mem.membershipid and mem.current_ind = 'Y'\n",
    "    join mdp_secure.sams_person person on mem.personid = person.personid and person.current_ind = 'Y'\n",
    "    join mdp_secure.sams_email_linking email on person.personid = email.personid and email.current_ind = 'Y' and emailstatus = 'ACTIVE' \n",
    "   WHERE UPPER(LEFT(TRIM(CARDSTATUS),1)) IN ('A','E','P','D') \n",
    "   AND B.CARDTYPE IN ('PREPRINTEDMEMBERSHIPCARD','VIRTUALMEMBERSHIPCARD')\n",
    "   AND B.CARD_NBR >= 10\n",
    "   AND A.CARDSTATUS = 'ACTIVE'\n",
    "   AND MEM.MEMBERSHIPSTATUSCODE IN ('A','E','P')\n",
    "   AND B.SNAPSHOT_BEGIN_TS >= '2022-05-15' AND B.SNAPSHOT_BEGIN_TS <= '2022-05-21'\n",
    "   --AND (updatedFeature <> 'HDP_MIGRATION' or updatedFeature is null )\n",
    "--ORDER BY A.MEMBERSHIP_NBR\n",
    "'''\n",
    ")"
   ]
  },
  {
   "cell_type": "code",
   "execution_count": 7,
   "id": "015f77c8",
   "metadata": {
    "ExecuteTime": {
     "end_time": "2022-05-27T09:56:44.741987Z",
     "start_time": "2022-05-27T09:49:00.442665Z"
    }
   },
   "outputs": [],
   "source": [
    "df = pd.read_sql(query, conn)"
   ]
  },
  {
   "cell_type": "code",
   "execution_count": 8,
   "id": "1a558a6c",
   "metadata": {
    "ExecuteTime": {
     "end_time": "2022-05-27T09:57:21.124564Z",
     "start_time": "2022-05-27T09:57:21.118565Z"
    }
   },
   "outputs": [
    {
     "data": {
      "text/plain": [
       "(1025052, 16)"
      ]
     },
     "execution_count": 8,
     "metadata": {},
     "output_type": "execute_result"
    }
   ],
   "source": [
    "df.shape"
   ]
  },
  {
   "cell_type": "markdown",
   "id": "3425aa5a",
   "metadata": {},
   "source": [
    "#### Filtering Base Population"
   ]
  },
  {
   "cell_type": "code",
   "execution_count": 11,
   "id": "35169df6",
   "metadata": {
    "ExecuteTime": {
     "end_time": "2022-05-27T09:58:46.339449Z",
     "start_time": "2022-05-27T09:58:07.093183Z"
    }
   },
   "outputs": [],
   "source": [
    "df1 =  psql.sqldf('''select MEMBERSHIPID,\n",
    "       MEMBERSHIP_NBR,\n",
    "       CARDNUMBER,\n",
    "       CARDSTATUS,\n",
    "       CARDTYPE,\n",
    "       CREATEDCLUB,\n",
    "       MEMBERSHIP_STATUS,\n",
    "       MEMBERSHIP_TIER,\n",
    "       MEMBERSHIP_ROLE,\n",
    "       FIRST_NAME,\n",
    "       LAST_NAME,\n",
    "       MAX(EMAIL_ADDRESS) AS EMAIL_ADDRESS,\n",
    "       SNAPSHOT_BEGIN_TS\n",
    "from df\n",
    "where cardtype IN ('PREPRINTEDMEMBERSHIPCARD','VIRTUALMEMBERSHIPCARD')\n",
    "AND MEMBERSHIP_STATUS = 'ACTIVE'\n",
    "GROUP BY MEMBERSHIPID,\n",
    "       CARDNUMBER,\n",
    "       MEMBERSHIP_NBR,\n",
    "       CARDSTATUS,\n",
    "       CARDTYPE,\n",
    "       CREATEDCLUB,\n",
    "       MEMBERSHIP_STATUS,\n",
    "       MEMBERSHIP_TIER,\n",
    "       MEMBERSHIP_ROLE,\n",
    "       FIRST_NAME,\n",
    "       LAST_NAME,\n",
    "       SNAPSHOT_BEGIN_TS''')"
   ]
  },
  {
   "cell_type": "code",
   "execution_count": 12,
   "id": "b6e011ae",
   "metadata": {
    "ExecuteTime": {
     "end_time": "2022-05-27T09:58:46.354448Z",
     "start_time": "2022-05-27T09:58:46.342447Z"
    }
   },
   "outputs": [
    {
     "data": {
      "text/plain": [
       "(829293, 13)"
      ]
     },
     "execution_count": 12,
     "metadata": {},
     "output_type": "execute_result"
    }
   ],
   "source": [
    "df1.shape"
   ]
  },
  {
   "cell_type": "code",
   "execution_count": 13,
   "id": "e63b5f6d",
   "metadata": {
    "ExecuteTime": {
     "end_time": "2022-05-27T09:59:27.663514Z",
     "start_time": "2022-05-27T09:59:27.235506Z"
    }
   },
   "outputs": [],
   "source": [
    "df1['CARDNUMBER'] = df1['CARDNUMBER'].str[-14:]"
   ]
  },
  {
   "cell_type": "code",
   "execution_count": 14,
   "id": "44454a42",
   "metadata": {
    "ExecuteTime": {
     "end_time": "2022-05-27T09:59:55.485285Z",
     "start_time": "2022-05-27T09:59:29.351519Z"
    }
   },
   "outputs": [
    {
     "data": {
      "text/plain": [
       "(829293, 13)"
      ]
     },
     "execution_count": 14,
     "metadata": {},
     "output_type": "execute_result"
    }
   ],
   "source": [
    "df2 = psql.sqldf(\"select * from df1 order by MEMBERSHIP_NBR\")\n",
    "df2.shape"
   ]
  },
  {
   "cell_type": "code",
   "execution_count": 15,
   "id": "2d85d45a",
   "metadata": {
    "ExecuteTime": {
     "end_time": "2022-05-27T09:59:55.522286Z",
     "start_time": "2022-05-27T09:59:55.487285Z"
    }
   },
   "outputs": [
    {
     "data": {
      "text/html": [
       "<div>\n",
       "<style scoped>\n",
       "    .dataframe tbody tr th:only-of-type {\n",
       "        vertical-align: middle;\n",
       "    }\n",
       "\n",
       "    .dataframe tbody tr th {\n",
       "        vertical-align: top;\n",
       "    }\n",
       "\n",
       "    .dataframe thead th {\n",
       "        text-align: right;\n",
       "    }\n",
       "</style>\n",
       "<table border=\"1\" class=\"dataframe\">\n",
       "  <thead>\n",
       "    <tr style=\"text-align: right;\">\n",
       "      <th></th>\n",
       "      <th>MEMBERSHIPID</th>\n",
       "      <th>MEMBERSHIP_NBR</th>\n",
       "      <th>CARDNUMBER</th>\n",
       "      <th>CARDSTATUS</th>\n",
       "      <th>CARDTYPE</th>\n",
       "      <th>CREATEDCLUB</th>\n",
       "      <th>MEMBERSHIP_STATUS</th>\n",
       "      <th>MEMBERSHIP_TIER</th>\n",
       "      <th>MEMBERSHIP_ROLE</th>\n",
       "      <th>FIRST_NAME</th>\n",
       "      <th>LAST_NAME</th>\n",
       "      <th>EMAIL_ADDRESS</th>\n",
       "      <th>SNAPSHOT_BEGIN_TS</th>\n",
       "    </tr>\n",
       "  </thead>\n",
       "  <tbody>\n",
       "    <tr>\n",
       "      <th>0</th>\n",
       "      <td>505f76db-06dc-429b-b921-a82fae039071</td>\n",
       "      <td>300</td>\n",
       "      <td>10180000000300</td>\n",
       "      <td>ACTIVE</td>\n",
       "      <td>PREPRINTEDMEMBERSHIPCARD</td>\n",
       "      <td>8194</td>\n",
       "      <td>ACTIVE</td>\n",
       "      <td>PLUS</td>\n",
       "      <td>PRIMARY</td>\n",
       "      <td>DALLAS</td>\n",
       "      <td>COWNE</td>\n",
       "      <td>DCOWNE@MADISON.K12.GA.US</td>\n",
       "      <td>2022-05-20</td>\n",
       "    </tr>\n",
       "    <tr>\n",
       "      <th>1</th>\n",
       "      <td>43c6d5d1-23d5-4694-a5aa-36b04b5b40c6</td>\n",
       "      <td>1165</td>\n",
       "      <td>10100000001165</td>\n",
       "      <td>ACTIVE</td>\n",
       "      <td>PREPRINTEDMEMBERSHIPCARD</td>\n",
       "      <td>6456</td>\n",
       "      <td>ACTIVE</td>\n",
       "      <td>CLUB</td>\n",
       "      <td>PRIMARY</td>\n",
       "      <td>KEVIN</td>\n",
       "      <td>FISH</td>\n",
       "      <td>FISHKEVIN1987@GMAIL.COM</td>\n",
       "      <td>2022-05-21</td>\n",
       "    </tr>\n",
       "    <tr>\n",
       "      <th>2</th>\n",
       "      <td>2fb5c312-2a46-442c-baf4-2d586b041614</td>\n",
       "      <td>1284</td>\n",
       "      <td>10160000001284</td>\n",
       "      <td>ACTIVE</td>\n",
       "      <td>PREPRINTEDMEMBERSHIPCARD</td>\n",
       "      <td>6644</td>\n",
       "      <td>ACTIVE</td>\n",
       "      <td>CLUB</td>\n",
       "      <td>PRIMARY</td>\n",
       "      <td>DEONA</td>\n",
       "      <td>HALL</td>\n",
       "      <td>DEDEHALL76@YAHOO.COM</td>\n",
       "      <td>2022-05-17</td>\n",
       "    </tr>\n",
       "    <tr>\n",
       "      <th>3</th>\n",
       "      <td>eafc10d5-3300-482e-a258-46e248d0c5a2</td>\n",
       "      <td>2306</td>\n",
       "      <td>10910000002306</td>\n",
       "      <td>ACTIVE</td>\n",
       "      <td>PREPRINTEDMEMBERSHIPCARD</td>\n",
       "      <td>8238</td>\n",
       "      <td>ACTIVE</td>\n",
       "      <td>CLUB</td>\n",
       "      <td>COMPLIMENTARY</td>\n",
       "      <td>JACOB</td>\n",
       "      <td>REYNOLDS</td>\n",
       "      <td>REYNOLDSJAKE239@GMAIL.COM</td>\n",
       "      <td>2022-05-17</td>\n",
       "    </tr>\n",
       "    <tr>\n",
       "      <th>4</th>\n",
       "      <td>777ab699-3566-4e1c-af4c-dee8a06f63fd</td>\n",
       "      <td>3655</td>\n",
       "      <td>10130000003655</td>\n",
       "      <td>ACTIVE</td>\n",
       "      <td>PREPRINTEDMEMBERSHIPCARD</td>\n",
       "      <td>6382</td>\n",
       "      <td>ACTIVE</td>\n",
       "      <td>CLUB</td>\n",
       "      <td>ADD_ON</td>\n",
       "      <td>JUAN</td>\n",
       "      <td>DONIS</td>\n",
       "      <td>MUNRRAJ12@GMAIL.COM</td>\n",
       "      <td>2022-05-16</td>\n",
       "    </tr>\n",
       "  </tbody>\n",
       "</table>\n",
       "</div>"
      ],
      "text/plain": [
       "                           MEMBERSHIPID  MEMBERSHIP_NBR      CARDNUMBER  \\\n",
       "0  505f76db-06dc-429b-b921-a82fae039071             300  10180000000300   \n",
       "1  43c6d5d1-23d5-4694-a5aa-36b04b5b40c6            1165  10100000001165   \n",
       "2  2fb5c312-2a46-442c-baf4-2d586b041614            1284  10160000001284   \n",
       "3  eafc10d5-3300-482e-a258-46e248d0c5a2            2306  10910000002306   \n",
       "4  777ab699-3566-4e1c-af4c-dee8a06f63fd            3655  10130000003655   \n",
       "\n",
       "  CARDSTATUS                  CARDTYPE CREATEDCLUB MEMBERSHIP_STATUS  \\\n",
       "0     ACTIVE  PREPRINTEDMEMBERSHIPCARD        8194            ACTIVE   \n",
       "1     ACTIVE  PREPRINTEDMEMBERSHIPCARD        6456            ACTIVE   \n",
       "2     ACTIVE  PREPRINTEDMEMBERSHIPCARD        6644            ACTIVE   \n",
       "3     ACTIVE  PREPRINTEDMEMBERSHIPCARD        8238            ACTIVE   \n",
       "4     ACTIVE  PREPRINTEDMEMBERSHIPCARD        6382            ACTIVE   \n",
       "\n",
       "  MEMBERSHIP_TIER MEMBERSHIP_ROLE FIRST_NAME LAST_NAME  \\\n",
       "0            PLUS         PRIMARY     DALLAS     COWNE   \n",
       "1            CLUB         PRIMARY      KEVIN      FISH   \n",
       "2            CLUB         PRIMARY      DEONA      HALL   \n",
       "3            CLUB   COMPLIMENTARY      JACOB  REYNOLDS   \n",
       "4            CLUB          ADD_ON       JUAN     DONIS   \n",
       "\n",
       "               EMAIL_ADDRESS SNAPSHOT_BEGIN_TS  \n",
       "0   DCOWNE@MADISON.K12.GA.US        2022-05-20  \n",
       "1    FISHKEVIN1987@GMAIL.COM        2022-05-21  \n",
       "2       DEDEHALL76@YAHOO.COM        2022-05-17  \n",
       "3  REYNOLDSJAKE239@GMAIL.COM        2022-05-17  \n",
       "4        MUNRRAJ12@GMAIL.COM        2022-05-16  "
      ]
     },
     "execution_count": 15,
     "metadata": {},
     "output_type": "execute_result"
    }
   ],
   "source": [
    "df2.head()"
   ]
  },
  {
   "cell_type": "markdown",
   "id": "8baf0e95",
   "metadata": {},
   "source": [
    "#### Exporting Output File"
   ]
  },
  {
   "cell_type": "code",
   "execution_count": 10,
   "id": "a67c1f91",
   "metadata": {
    "ExecuteTime": {
     "end_time": "2022-05-26T14:42:47.372289Z",
     "start_time": "2022-05-26T14:42:47.370287Z"
    }
   },
   "outputs": [],
   "source": [
    "# #Code to split the datafile base on record count\n",
    "\n",
    "# df_1 = df2.sample(frac = 0.5)\n",
    "# df_2 = df2.drop(df_1.index)\n",
    "\n",
    "# df_1.to_csv(\"Data1.csv\")\n",
    "# df_2.to_csv(\"Data2.csv\")"
   ]
  },
  {
   "cell_type": "code",
   "execution_count": 11,
   "id": "5fcdec1a",
   "metadata": {
    "ExecuteTime": {
     "end_time": "2022-05-26T14:46:08.589051Z",
     "start_time": "2022-05-26T14:42:58.429802Z"
    }
   },
   "outputs": [],
   "source": [
    "output1 = \"C:/Users/vn537hz/OneDrive - Walmart Inc/Desktop/Sam's Club Files/Adhoc Request/Data_Request_Digital_Membership/OutputFiles/Schedule1.xlsx\"\n",
    "writer = pd.ExcelWriter(output1, engine='xlsxwriter')\n",
    "df2.to_excel(writer, index=False)\n",
    "writer.save()"
   ]
  },
  {
   "cell_type": "code",
   "execution_count": null,
   "id": "cc85ab26",
   "metadata": {},
   "outputs": [],
   "source": []
  }
 ],
 "metadata": {
  "kernelspec": {
   "display_name": "Python 3 (ipykernel)",
   "language": "python",
   "name": "python3"
  },
  "language_info": {
   "codemirror_mode": {
    "name": "ipython",
    "version": 3
   },
   "file_extension": ".py",
   "mimetype": "text/x-python",
   "name": "python",
   "nbconvert_exporter": "python",
   "pygments_lexer": "ipython3",
   "version": "3.9.7"
  },
  "toc": {
   "base_numbering": 1,
   "nav_menu": {},
   "number_sections": true,
   "sideBar": true,
   "skip_h1_title": false,
   "title_cell": "Table of Contents",
   "title_sidebar": "Contents",
   "toc_cell": false,
   "toc_position": {},
   "toc_section_display": true,
   "toc_window_display": true
  }
 },
 "nbformat": 4,
 "nbformat_minor": 5
}
